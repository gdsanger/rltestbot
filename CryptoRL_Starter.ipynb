{
 "cells": [
  {
   "cell_type": "markdown",
   "id": "b95f4c00",
   "metadata": {},
   "source": [
    "# 📈 CryptoRL Starter Notebook\n",
    "\n",
    "Dies ist dein Einstiegspunkt für das RL-basierte Trading auf dem Binance-Testnet mit PPO oder DQN.\n",
    "- GPU-Unterstützung aktiv\n",
    "- Binance Testnet API konfigurierbar über `.env`\n",
    "- Schrittweiser Aufbau eines Agenten\n"
   ]
  },
  {
   "cell_type": "code",
   "execution_count": null,
   "id": "624ac0e9",
   "metadata": {},
   "outputs": [],
   "source": [
    "# ✅ Umgebung prüfen\n",
    "import torch\n",
    "print('CUDA verfügbar:', torch.cuda.is_available())\n",
    "print('Gerät:', torch.cuda.get_device_name(0))"
   ]
  },
  {
   "cell_type": "code",
   "execution_count": null,
   "id": "161274bd",
   "metadata": {},
   "outputs": [],
   "source": [
    "# 📦 Pakete laden\n",
    "import os\n",
    "from dotenv import load_dotenv\n",
    "from binance.client import Client\n",
    "\n",
    "# .env laden\n",
    "load_dotenv()\n",
    "api_key = os.getenv(\"BINANCE_API_KEY\")\n",
    "api_secret = os.getenv(\"BINANCE_API_SECRET\")\n",
    "\n",
    "# Binance Testnet aktivieren\n",
    "client = Client(api_key, api_secret)\n",
    "client.API_URL = 'https://testnet.binance.vision/api'\n",
    "print(\"Verbindung zum Binance Testnet erfolgreich.\")"
   ]
  },
  {
   "cell_type": "code",
   "execution_count": null,
   "id": "7b775e34",
   "metadata": {},
   "outputs": [],
   "source": [
    "# 📈 Live-Marktdaten von Binance Testnet abrufen (BTC/USDT)\n",
    "from binance.enums import *\n",
    "import pandas as pd\n",
    "import datetime\n",
    "\n",
    "# Beispiel: 1m Kerzen der letzten Stunde holen\n",
    "klines = client.get_klines(symbol='BTCUSDT', interval=KLINE_INTERVAL_1MINUTE, limit=60)\n",
    "\n",
    "# In DataFrame konvertieren\n",
    "df = pd.DataFrame(klines, columns=[\n",
    "    'open_time', 'open', 'high', 'low', 'close', 'volume',\n",
    "    'close_time', 'quote_asset_volume', 'num_trades',\n",
    "    'taker_buy_base', 'taker_buy_quote', 'ignore'\n",
    "])\n",
    "# Zeitstempel umwandeln\n",
    "df['open_time'] = pd.to_datetime(df['open_time'], unit='ms')\n",
    "df['close_time'] = pd.to_datetime(df['close_time'], unit='ms')\n",
    "df[['open', 'high', 'low', 'close', 'volume']] = df[['open', 'high', 'low', 'close', 'volume']].astype(float)\n",
    "\n",
    "# Vorschau\n",
    "df[['open_time', 'open', 'high', 'low', 'close', 'volume']].tail()"
   ]
  }
 ],
 "metadata": {
  "kernelspec": {
   "display_name": "Python 3 (ipykernel)",
   "language": "python",
   "name": "python3"
  },
  "language_info": {
   "codemirror_mode": {
    "name": "ipython",
    "version": 3
   },
   "file_extension": ".py",
   "mimetype": "text/x-python",
   "name": "python",
   "nbconvert_exporter": "python",
   "pygments_lexer": "ipython3",
   "version": "3.10.12"
  }
 },
 "nbformat": 4,
 "nbformat_minor": 5
}
